{
  "nbformat": 4,
  "nbformat_minor": 0,
  "metadata": {
    "colab": {
      "provenance": [],
      "authorship_tag": "ABX9TyNgUHQ0dbkIUDQQevCVTEKE",
      "include_colab_link": true
    },
    "kernelspec": {
      "name": "python3",
      "display_name": "Python 3"
    },
    "language_info": {
      "name": "python"
    }
  },
  "cells": [
    {
      "cell_type": "markdown",
      "metadata": {
        "id": "view-in-github",
        "colab_type": "text"
      },
      "source": [
        "<a href=\"https://colab.research.google.com/github/akul-bharadwaj/Welmart-sales-insights-with-PySpark/blob/main/Welmart_Sales.ipynb\" target=\"_parent\"><img src=\"https://colab.research.google.com/assets/colab-badge.svg\" alt=\"Open In Colab\"/></a>"
      ]
    },
    {
      "cell_type": "markdown",
      "source": [
        "## Superstore Sales Insights"
      ],
      "metadata": {
        "id": "AdXz23wZx11z"
      }
    },
    {
      "cell_type": "code",
      "execution_count": null,
      "metadata": {
        "colab": {
          "base_uri": "https://localhost:8080/"
        },
        "id": "PueEnUXSxA9k",
        "outputId": "f45a038d-3329-4644-ac6c-b87e1a37f8f7"
      },
      "outputs": [
        {
          "output_type": "stream",
          "name": "stdout",
          "text": [
            "Requirement already satisfied: pyspark in /usr/local/lib/python3.10/dist-packages (3.5.4)\n",
            "Requirement already satisfied: py4j==0.10.9.7 in /usr/local/lib/python3.10/dist-packages (from pyspark) (0.10.9.7)\n"
          ]
        }
      ],
      "source": [
        "!pip install pyspark"
      ]
    },
    {
      "cell_type": "code",
      "source": [
        "import pyspark\n",
        "from pyspark.sql import SparkSession\n",
        "from pyspark.sql.functions import *"
      ],
      "metadata": {
        "id": "ku4wpC_YxSIM"
      },
      "execution_count": null,
      "outputs": []
    },
    {
      "cell_type": "code",
      "source": [
        "spark = SparkSession.builder.appName('Superstore_Sales').getOrCreate()"
      ],
      "metadata": {
        "id": "fEW1fCNXxU5c"
      },
      "execution_count": null,
      "outputs": []
    },
    {
      "cell_type": "markdown",
      "source": [
        "### Data Loading"
      ],
      "metadata": {
        "id": "AKyoKIQAywa-"
      }
    },
    {
      "cell_type": "code",
      "source": [
        "# Path to data set\n",
        "csv_file = \"/content/Superstore.csv\"\n",
        "\n",
        "df = spark.read \\\n",
        "    .format(\"csv\") \\\n",
        "    .option(\"header\", \"true\") \\\n",
        "    .option(\"inferSchema\", \"true\") \\\n",
        "    .load(csv_file)"
      ],
      "metadata": {
        "id": "LDwDuINaxzXZ"
      },
      "execution_count": null,
      "outputs": []
    },
    {
      "cell_type": "code",
      "source": [
        "df.createOrReplaceTempView(\"u\")"
      ],
      "metadata": {
        "id": "IyWaKO-LyeTT"
      },
      "execution_count": null,
      "outputs": []
    },
    {
      "cell_type": "code",
      "source": [
        "df.show()"
      ],
      "metadata": {
        "colab": {
          "base_uri": "https://localhost:8080/"
        },
        "id": "hWXqseLByj5K",
        "outputId": "80e573e0-4ea7-42e6-a6b7-bb689ce6c566"
      },
      "execution_count": null,
      "outputs": [
        {
          "output_type": "stream",
          "name": "stdout",
          "text": [
            "+------+--------------+----------+----------+--------------+-----------+------------------+-----------+-------------+---------------+--------------+-----------+-------+---------------+---------------+------------+--------------------+--------+--------+--------+--------+\n",
            "|Row ID|      Order ID|Order Date| Ship Date|     Ship Mode|Customer ID|     Customer Name|    Segment|      Country|           City|         State|Postal Code| Region|     Product ID|       Category|Sub-Category|        Product Name|   Sales|Quantity|Discount|  Profit|\n",
            "+------+--------------+----------+----------+--------------+-----------+------------------+-----------+-------------+---------------+--------------+-----------+-------+---------------+---------------+------------+--------------------+--------+--------+--------+--------+\n",
            "|     1|CA-2016-152156| 11/8/2016|11/11/2016|  Second Class|   CG-12520|       Claire Gute|   Consumer|United States|      Henderson|      Kentucky|      42420|  South|FUR-BO-10001798|      Furniture|   Bookcases|Bush Somerset Col...|  261.96|       2|       0| 41.9136|\n",
            "|     2|CA-2016-152156| 11/8/2016|11/11/2016|  Second Class|   CG-12520|       Claire Gute|   Consumer|United States|      Henderson|      Kentucky|      42420|  South|FUR-CH-10000454|      Furniture|      Chairs|Hon Deluxe Fabric...|  731.94|       3|       0| 219.582|\n",
            "|     3|CA-2016-138688| 6/12/2016| 6/16/2016|  Second Class|   DV-13045|   Darrin Van Huff|  Corporate|United States|    Los Angeles|    California|      90036|   West|OFF-LA-10000240|Office Supplies|      Labels|Self-Adhesive Add...|   14.62|       2|       0|  6.8714|\n",
            "|     4|US-2015-108966|10/11/2015|10/18/2015|Standard Class|   SO-20335|    Sean O'Donnell|   Consumer|United States|Fort Lauderdale|       Florida|      33311|  South|FUR-TA-10000577|      Furniture|      Tables|Bretford CR4500 S...|957.5775|       5|    0.45|-383.031|\n",
            "|     5|US-2015-108966|10/11/2015|10/18/2015|Standard Class|   SO-20335|    Sean O'Donnell|   Consumer|United States|Fort Lauderdale|       Florida|      33311|  South|OFF-ST-10000760|Office Supplies|     Storage|Eldon Fold 'N Rol...|  22.368|       2|     0.2|  2.5164|\n",
            "|     6|CA-2014-115812|  6/9/2014| 6/14/2014|Standard Class|   BH-11710|   Brosina Hoffman|   Consumer|United States|    Los Angeles|    California|      90032|   West|FUR-FU-10001487|      Furniture| Furnishings|Eldon Expressions...|   48.86|       7|       0| 14.1694|\n",
            "|     7|CA-2014-115812|  6/9/2014| 6/14/2014|Standard Class|   BH-11710|   Brosina Hoffman|   Consumer|United States|    Los Angeles|    California|      90032|   West|OFF-AR-10002833|Office Supplies|         Art|          Newell 322|    7.28|       4|       0|  1.9656|\n",
            "|     8|CA-2014-115812|  6/9/2014| 6/14/2014|Standard Class|   BH-11710|   Brosina Hoffman|   Consumer|United States|    Los Angeles|    California|      90032|   West|TEC-PH-10002275|     Technology|      Phones|Mitel 5320 IP Pho...| 907.152|       6|     0.2| 90.7152|\n",
            "|     9|CA-2014-115812|  6/9/2014| 6/14/2014|Standard Class|   BH-11710|   Brosina Hoffman|   Consumer|United States|    Los Angeles|    California|      90032|   West|OFF-BI-10003910|Office Supplies|     Binders|DXL Angle-View Bi...|  18.504|       3|     0.2|  5.7825|\n",
            "|    10|CA-2014-115812|  6/9/2014| 6/14/2014|Standard Class|   BH-11710|   Brosina Hoffman|   Consumer|United States|    Los Angeles|    California|      90032|   West|OFF-AP-10002892|Office Supplies|  Appliances|Belkin F5C206VTEL...|   114.9|       5|       0|   34.47|\n",
            "|    11|CA-2014-115812|  6/9/2014| 6/14/2014|Standard Class|   BH-11710|   Brosina Hoffman|   Consumer|United States|    Los Angeles|    California|      90032|   West|FUR-TA-10001539|      Furniture|      Tables|Chromcraft Rectan...|1706.184|       9|     0.2| 85.3092|\n",
            "|    12|CA-2014-115812|  6/9/2014| 6/14/2014|Standard Class|   BH-11710|   Brosina Hoffman|   Consumer|United States|    Los Angeles|    California|      90032|   West|TEC-PH-10002033|     Technology|      Phones|Konftel 250 Confe...| 911.424|       4|     0.2| 68.3568|\n",
            "|    13|CA-2017-114412| 4/15/2017| 4/20/2017|Standard Class|   AA-10480|      Andrew Allen|   Consumer|United States|        Concord|North Carolina|      28027|  South|OFF-PA-10002365|Office Supplies|       Paper|          Xerox 1967|  15.552|       3|     0.2|  5.4432|\n",
            "|    14|CA-2016-161389| 12/5/2016|12/10/2016|Standard Class|   IM-15070|      Irene Maddox|   Consumer|United States|        Seattle|    Washington|      98103|   West|OFF-BI-10003656|Office Supplies|     Binders|Fellowes PB200 Pl...| 407.976|       3|     0.2|132.5922|\n",
            "|    15|US-2015-118983|11/22/2015|11/26/2015|Standard Class|   HP-14815|     Harold Pawlan|Home Office|United States|     Fort Worth|         Texas|      76106|Central|OFF-AP-10002311|Office Supplies|  Appliances|Holmes Replacemen...|   68.81|       5|     0.8|-123.858|\n",
            "|    16|US-2015-118983|11/22/2015|11/26/2015|Standard Class|   HP-14815|     Harold Pawlan|Home Office|United States|     Fort Worth|         Texas|      76106|Central|OFF-BI-10000756|Office Supplies|     Binders|Storex DuraTech R...|   2.544|       3|     0.8|  -3.816|\n",
            "|    17|CA-2014-105893|11/11/2014|11/18/2014|Standard Class|   PK-19075|         Pete Kriz|   Consumer|United States|        Madison|     Wisconsin|      53711|Central|OFF-ST-10004186|Office Supplies|     Storage|\"Stur-D-Stor Shel...|  665.88|       6|       0| 13.3176|\n",
            "|    18|CA-2014-167164| 5/13/2014| 5/15/2014|  Second Class|   AG-10270|   Alejandro Grove|   Consumer|United States|    West Jordan|          Utah|      84084|   West|OFF-ST-10000107|Office Supplies|     Storage|Fellowes Super St...|    55.5|       2|       0|    9.99|\n",
            "|    19|CA-2014-143336| 8/27/2014|  9/1/2014|  Second Class|   ZD-21925|Zuschuss Donatelli|   Consumer|United States|  San Francisco|    California|      94109|   West|OFF-AR-10003056|Office Supplies|         Art|          Newell 341|    8.56|       2|       0|  2.4824|\n",
            "|    20|CA-2014-143336| 8/27/2014|  9/1/2014|  Second Class|   ZD-21925|Zuschuss Donatelli|   Consumer|United States|  San Francisco|    California|      94109|   West|TEC-PH-10001949|     Technology|      Phones|Cisco SPA 501G IP...|  213.48|       3|     0.2|  16.011|\n",
            "+------+--------------+----------+----------+--------------+-----------+------------------+-----------+-------------+---------------+--------------+-----------+-------+---------------+---------------+------------+--------------------+--------+--------+--------+--------+\n",
            "only showing top 20 rows\n",
            "\n"
          ]
        }
      ]
    },
    {
      "cell_type": "markdown",
      "source": [
        "### 1. Determine the best-selling product sub-category."
      ],
      "metadata": {
        "id": "St-1sPzoy4zZ"
      }
    },
    {
      "cell_type": "code",
      "source": [
        "#Determine the best-selling product sub-category.\n",
        "\n",
        "sales_by_sub_category = df.groupBy(\"Sub-Category\").agg(sum(\"Sales\").alias(\"Total_Sales\"))"
      ],
      "metadata": {
        "id": "CQWOwacoy-X3"
      },
      "execution_count": null,
      "outputs": []
    },
    {
      "cell_type": "code",
      "source": [
        "sales_by_sub_category.orderBy(\"Total_Sales\", ascending=False).show()"
      ],
      "metadata": {
        "colab": {
          "base_uri": "https://localhost:8080/"
        },
        "id": "3RY5gsNc1OE3",
        "outputId": "a849d6dd-2955-4343-918d-88a07dcb7aae"
      },
      "execution_count": null,
      "outputs": [
        {
          "output_type": "stream",
          "name": "stdout",
          "text": [
            "+------------+------------------+\n",
            "|Sub-Category|       Total_Sales|\n",
            "+------------+------------------+\n",
            "|      Phones| 329753.0880000001|\n",
            "|      Chairs|328449.10300000076|\n",
            "|     Storage|216803.21200000012|\n",
            "|      Tables| 206965.5320000001|\n",
            "|     Binders|199905.71700000006|\n",
            "|    Machines|189238.63099999996|\n",
            "| Accessories| 167380.3180000001|\n",
            "|     Copiers|149528.02999999994|\n",
            "|   Bookcases|114879.99629999997|\n",
            "|  Appliances|        107532.161|\n",
            "| Furnishings| 82752.23000000004|\n",
            "|       Paper| 75356.11799999999|\n",
            "|    Supplies| 45952.47000000001|\n",
            "|         Art|27118.791999999954|\n",
            "|   Envelopes|15339.489999999993|\n",
            "|      Labels|         12486.312|\n",
            "|   Fasteners|3008.6559999999995|\n",
            "+------------+------------------+\n",
            "\n"
          ]
        }
      ]
    },
    {
      "cell_type": "code",
      "source": [
        "best_selling_sub_category = sales_by_sub_category.orderBy(\"Total_Sales\", ascending=False).limit(1)\n",
        "best_selling_sub_category.show()"
      ],
      "metadata": {
        "colab": {
          "base_uri": "https://localhost:8080/"
        },
        "id": "WPsNFzd81ucx",
        "outputId": "93618fd4-c348-49b6-815d-005adbf6ae8d"
      },
      "execution_count": null,
      "outputs": [
        {
          "output_type": "stream",
          "name": "stdout",
          "text": [
            "+------------+-----------------+\n",
            "|Sub-Category|      Total_Sales|\n",
            "+------------+-----------------+\n",
            "|      Phones|329753.0880000001|\n",
            "+------------+-----------------+\n",
            "\n"
          ]
        }
      ]
    },
    {
      "cell_type": "markdown",
      "source": [
        "### 2. Identify the product category generating the highest revenue."
      ],
      "metadata": {
        "id": "rdlfJI-R2GbJ"
      }
    },
    {
      "cell_type": "code",
      "source": [
        "#Identify the product category generating the highest revenue.\n",
        "\n",
        "rev_by_category = df.groupBy(\"Category\").agg(sum(\"Sales\").alias(\"Total_Sales\"))"
      ],
      "metadata": {
        "id": "ggJMaNHD2GEi"
      },
      "execution_count": null,
      "outputs": []
    },
    {
      "cell_type": "code",
      "source": [
        "rev_by_category.orderBy(\"Total_Sales\", ascending=False).show()"
      ],
      "metadata": {
        "colab": {
          "base_uri": "https://localhost:8080/"
        },
        "id": "Z4_Yl2rm2zsL",
        "outputId": "ce9ec217-857b-4c9f-9ed1-6998993384cf"
      },
      "execution_count": null,
      "outputs": [
        {
          "output_type": "stream",
          "name": "stdout",
          "text": [
            "+---------------+-----------------+\n",
            "|       Category|      Total_Sales|\n",
            "+---------------+-----------------+\n",
            "|     Technology|835900.0669999964|\n",
            "|      Furniture|733046.8612999996|\n",
            "|Office Supplies|703502.9280000031|\n",
            "+---------------+-----------------+\n",
            "\n"
          ]
        }
      ]
    },
    {
      "cell_type": "code",
      "source": [
        "highest_rev_category = rev_by_category.orderBy(\"Total_Sales\", ascending=False).limit(1)\n",
        "highest_rev_category.show()"
      ],
      "metadata": {
        "colab": {
          "base_uri": "https://localhost:8080/"
        },
        "id": "pQV2bIOvAl_1",
        "outputId": "99f5925d-53df-4e25-c889-2b78f45bf900"
      },
      "execution_count": null,
      "outputs": [
        {
          "output_type": "stream",
          "name": "stdout",
          "text": [
            "+----------+-----------------+\n",
            "|  Category|      Total_Sales|\n",
            "+----------+-----------------+\n",
            "|Technology|835900.0669999964|\n",
            "+----------+-----------------+\n",
            "\n"
          ]
        }
      ]
    },
    {
      "cell_type": "markdown",
      "source": [
        "### 3. Compile a top 10 list of the most valuable customers."
      ],
      "metadata": {
        "id": "AE7y5gOgA53F"
      }
    },
    {
      "cell_type": "code",
      "source": [
        "#Compile a top 10 list of the most valuable customers.\n",
        "\n",
        "cust_rev = df.groupBy(\"Customer Name\").agg(sum(\"Sales\").alias(\"Total_Sales\"))"
      ],
      "metadata": {
        "id": "LKO3-VB5A_W-"
      },
      "execution_count": null,
      "outputs": []
    },
    {
      "cell_type": "code",
      "source": [
        "cust_rev.orderBy(\"Total_Sales\", ascending=False).show(10)"
      ],
      "metadata": {
        "colab": {
          "base_uri": "https://localhost:8080/"
        },
        "id": "x3jL8K0eBK7o",
        "outputId": "82ac6d30-0f1f-4e67-c9e2-fee7841e8f8d"
      },
      "execution_count": null,
      "outputs": [
        {
          "output_type": "stream",
          "name": "stdout",
          "text": [
            "+------------------+------------------+\n",
            "|     Customer Name|       Total_Sales|\n",
            "+------------------+------------------+\n",
            "|       Sean Miller|          25043.05|\n",
            "|      Tamara Chand|19017.847999999998|\n",
            "|      Raymond Buch|         15117.339|\n",
            "|      Tom Ashbrook|          14595.62|\n",
            "|     Adrian Barton|14355.610999999997|\n",
            "|      Sanjit Chand|14142.333999999999|\n",
            "|      Ken Lonsdale|         14071.917|\n",
            "|      Hunter Lopez|12873.297999999999|\n",
            "|      Sanjit Engle|12209.438000000002|\n",
            "|Christopher Conant|         12129.072|\n",
            "+------------------+------------------+\n",
            "only showing top 10 rows\n",
            "\n"
          ]
        }
      ]
    },
    {
      "cell_type": "markdown",
      "source": [
        "### 4. Determine the state responsible for the highest number of orders."
      ],
      "metadata": {
        "id": "Kman7NDwBhQe"
      }
    },
    {
      "cell_type": "code",
      "source": [
        "#Determine the state responsible for the highest number of orders.\n",
        "\n",
        "state_orders = df.groupBy(\"State\").agg(count(\"*\").alias(\"Total_Orders\"))"
      ],
      "metadata": {
        "id": "kzZVHuY4Bm1s"
      },
      "execution_count": null,
      "outputs": []
    },
    {
      "cell_type": "code",
      "source": [
        "state_orders.orderBy(\"Total_Orders\", ascending=False).show()"
      ],
      "metadata": {
        "colab": {
          "base_uri": "https://localhost:8080/"
        },
        "id": "dxwQ8DWyBvkF",
        "outputId": "524a97f7-ec72-4cd6-b444-ed54cb38342e"
      },
      "execution_count": null,
      "outputs": [
        {
          "output_type": "stream",
          "name": "stdout",
          "text": [
            "+--------------+------------+\n",
            "|         State|Total_Orders|\n",
            "+--------------+------------+\n",
            "|    California|        2001|\n",
            "|      New York|        1128|\n",
            "|         Texas|         985|\n",
            "|  Pennsylvania|         587|\n",
            "|    Washington|         506|\n",
            "|      Illinois|         492|\n",
            "|          Ohio|         469|\n",
            "|       Florida|         383|\n",
            "|      Michigan|         255|\n",
            "|North Carolina|         249|\n",
            "|      Virginia|         224|\n",
            "|       Arizona|         224|\n",
            "|       Georgia|         184|\n",
            "|     Tennessee|         183|\n",
            "|      Colorado|         182|\n",
            "|       Indiana|         149|\n",
            "|      Kentucky|         139|\n",
            "| Massachusetts|         135|\n",
            "|    New Jersey|         130|\n",
            "|        Oregon|         124|\n",
            "+--------------+------------+\n",
            "only showing top 20 rows\n",
            "\n"
          ]
        }
      ]
    },
    {
      "cell_type": "code",
      "source": [
        "state_orders.orderBy(\"Total_Orders\", ascending=False).show(1)"
      ],
      "metadata": {
        "colab": {
          "base_uri": "https://localhost:8080/"
        },
        "id": "TFUBZ3miB5Bg",
        "outputId": "0a987195-9a22-4847-95a3-32aff762763d"
      },
      "execution_count": null,
      "outputs": [
        {
          "output_type": "stream",
          "name": "stdout",
          "text": [
            "+----------+------------+\n",
            "|     State|Total_Orders|\n",
            "+----------+------------+\n",
            "|California|        2001|\n",
            "+----------+------------+\n",
            "only showing top 1 row\n",
            "\n"
          ]
        }
      ]
    },
    {
      "cell_type": "markdown",
      "source": [
        "### 5. Find the year with the highest revenue generation."
      ],
      "metadata": {
        "id": "BT0O3pmYB94s"
      }
    },
    {
      "cell_type": "code",
      "source": [
        "# Find the year with the highest revenue generation.\n",
        "\n",
        "#df = df.withColumn(\"Order Date\", to_date(df[\"Order Date\"], \"MM/dd/yyyy\"))\n",
        "spark.conf.set(\"spark.sql.legacy.timeParserPolicy\", \"LEGACY\")\n",
        "\n",
        "rev_by_year = df.groupBy(year(\"Order Date\").alias(\"Year\")).agg(sum(\"Sales\").alias(\"Total_Sales\"))"
      ],
      "metadata": {
        "id": "dqbvWS7yCCTn"
      },
      "execution_count": null,
      "outputs": []
    },
    {
      "cell_type": "code",
      "source": [
        "rev_by_year.orderBy(\"Total_Sales\", ascending=False).show()"
      ],
      "metadata": {
        "colab": {
          "base_uri": "https://localhost:8080/"
        },
        "id": "xk4IBKb2CFqO",
        "outputId": "1555efb2-c071-451f-d785-ff25bcc7f82f"
      },
      "execution_count": null,
      "outputs": [
        {
          "output_type": "stream",
          "name": "stdout",
          "text": [
            "+----+-----------------+\n",
            "|Year|      Total_Sales|\n",
            "+----+-----------------+\n",
            "|2017|724994.5611999998|\n",
            "|2016|601265.2610000009|\n",
            "|2014| 481763.798100001|\n",
            "|2015|464426.2359999999|\n",
            "+----+-----------------+\n",
            "\n"
          ]
        }
      ]
    },
    {
      "cell_type": "code",
      "source": [
        "rev_by_year.orderBy(\"Total_Sales\", ascending=False).show(1)"
      ],
      "metadata": {
        "colab": {
          "base_uri": "https://localhost:8080/"
        },
        "id": "-dRVEMAUDxrP",
        "outputId": "aa3c5864-39c2-4b1d-9c11-482307b50e9c"
      },
      "execution_count": null,
      "outputs": [
        {
          "output_type": "stream",
          "name": "stdout",
          "text": [
            "+----+-----------------+\n",
            "|Year|      Total_Sales|\n",
            "+----+-----------------+\n",
            "|2017|724994.5611999998|\n",
            "+----+-----------------+\n",
            "only showing top 1 row\n",
            "\n"
          ]
        }
      ]
    }
  ]
}
